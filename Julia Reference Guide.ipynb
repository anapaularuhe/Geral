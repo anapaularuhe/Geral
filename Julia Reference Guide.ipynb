{
 "cells": [
  {
   "cell_type": "markdown",
   "id": "f47c7a22-cc92-48d0-b89d-691fd351a62f",
   "metadata": {
    "tags": []
   },
   "source": [
    "# Julia Reference Guide\n",
    "Ana Paula Ruhe\n",
    "---"
   ]
  },
  {
   "cell_type": "markdown",
   "id": "faa206fb-b8f0-4345-af5e-fd76d4fbcd65",
   "metadata": {
    "jp-MarkdownHeadingCollapsed": true,
    "tags": []
   },
   "source": [
    "## Basics"
   ]
  },
  {
   "cell_type": "markdown",
   "id": "0fa8424f-de37-41cc-ba4f-54eb729ca460",
   "metadata": {},
   "source": [
    "* Comment symbol: #  \n",
    "* Help: `?object` \n",
    "* `@show` macro: print the code as well as the output. "
   ]
  },
  {
   "cell_type": "code",
   "execution_count": 1,
   "id": "6dd32541-67b3-4a05-a9c8-6c6af7de4b49",
   "metadata": {},
   "outputs": [
    {
     "name": "stdout",
     "output_type": "stream",
     "text": [
      "x = 1 + 2 = 3\n"
     ]
    },
    {
     "data": {
      "text/plain": [
       "3"
      ]
     },
     "execution_count": 1,
     "metadata": {},
     "output_type": "execute_result"
    }
   ],
   "source": [
    "@show x = 1 + 2"
   ]
  },
  {
   "cell_type": "markdown",
   "id": "9309904c-0165-405f-9a3b-cdfbfb67ac8e",
   "metadata": {},
   "source": [
    "* We can use `;` at the end of the line to supress the output."
   ]
  },
  {
   "cell_type": "code",
   "execution_count": 2,
   "id": "341c28f8-7a50-477b-ad27-3503d5c2831e",
   "metadata": {},
   "outputs": [
    {
     "name": "stdout",
     "output_type": "stream",
     "text": [
      "x = 1 + 2 = 3\n"
     ]
    }
   ],
   "source": [
    "@show x = 1 + 2;"
   ]
  },
  {
   "cell_type": "markdown",
   "id": "65f83062",
   "metadata": {},
   "source": [
    "* Create an object of the same size/type than other: `similar` function"
   ]
  },
  {
   "cell_type": "code",
   "execution_count": null,
   "id": "8c87494e",
   "metadata": {},
   "outputs": [],
   "source": [
    "y = similar(x)"
   ]
  },
  {
   "cell_type": "markdown",
   "id": "2a2c045c",
   "metadata": {},
   "source": [
    "* `LaTeXStrings` package: allows using LaTeX symbols in plots (as in legends os axis).  \n",
    "In the text, use `L\"math expression\"`. Ex: `L\"x^2\"` will display $x^2$.\n",
    "\n",
    "* Printing text and variables values: `println()` function.  \n",
    "  + To show the value of a variable $x$, we use: "
   ]
  },
  {
   "cell_type": "code",
   "execution_count": null,
   "id": "a0059245",
   "metadata": {},
   "outputs": [],
   "source": [
    "println(\"The result is x = $x.\")"
   ]
  },
  {
   "cell_type": "markdown",
   "id": "0863771a-7703-4cae-b705-dbe522811141",
   "metadata": {},
   "source": [
    "#### `for` loop syntax:"
   ]
  },
  {
   "cell_type": "code",
   "execution_count": null,
   "id": "49fa6e51-0f7e-47d4-b6ed-be9beab99ab8",
   "metadata": {},
   "outputs": [],
   "source": [
    "for i in 1:n\n",
    "  ...\n",
    "end"
   ]
  },
  {
   "cell_type": "markdown",
   "id": "5d0f2fde-b2e4-4ffc-8687-af7263ffcf0f",
   "metadata": {},
   "source": [
    "When filling a vector, it is best to use the `eachindex` term:"
   ]
  },
  {
   "cell_type": "code",
   "execution_count": null,
   "id": "c319ffb2-e066-45b4-82ff-967ab8c20072",
   "metadata": {},
   "outputs": [],
   "source": [
    "# Example: generating a vector ϵ of 100 random numbers\n",
    "n = 100\n",
    "ϵ = zeros(n)\n",
    "for i in eachindex(ϵ)\n",
    "    ϵ[i] = randn()\n",
    "end"
   ]
  },
  {
   "cell_type": "markdown",
   "id": "e6613b78-1901-4356-82f8-dd0af513a6f5",
   "metadata": {},
   "source": [
    "Here, `eachindex(ϵ)` returns an iterator of indices which can be used to access ϵ. Iterators are memory efficient because the elements are generated on the fly rather than stored in memory, and it allows the compiler flexibility to creatively generate fast code.\n",
    "\n",
    "In Julia you can also loop directly over arrays themselves:"
   ]
  },
  {
   "cell_type": "code",
   "execution_count": null,
   "id": "3b63f694-5f24-458f-a6be-a433fbc3ea2f",
   "metadata": {},
   "outputs": [],
   "source": [
    "ϵ_sum = 0.0 # A floting point; ϵ = 0 would create a integer. \n",
    "m = 5\n",
    "for ϵ_val in ϵ[1:m]\n",
    "    ϵ_sum = ϵ_sum + ϵ_val\n",
    "end"
   ]
  },
  {
   "cell_type": "markdown",
   "id": "ae628e9f-37ba-40f6-a3e4-a3f575e1f6da",
   "metadata": {},
   "source": [
    "#### Function syntax:"
   ]
  },
  {
   "cell_type": "code",
   "execution_count": null,
   "id": "6512e604-3ba5-4e7f-993c-8532aa19803b",
   "metadata": {},
   "outputs": [],
   "source": [
    "function name(parameters)\n",
    "    ...\n",
    "    return y\n",
    "end"
   ]
  },
  {
   "cell_type": "markdown",
   "id": "d7d799bc",
   "metadata": {},
   "source": [
    "* When no return statement is present, the last value obtained when executing the code block is returned. Although some prefer the second option, we often favor the former on the basis that explicit is better than implicit.\n",
    "* Function arguments can be given default values.\n",
    "  + If the argument is not supplied, the default value is substituted."
   ]
  },
  {
   "cell_type": "code",
   "execution_count": null,
   "id": "e0b1eba4",
   "metadata": {},
   "outputs": [],
   "source": [
    "f(x, a = 1) = exp(cos(a * x))"
   ]
  },
  {
   "cell_type": "markdown",
   "id": "e76dd406",
   "metadata": {},
   "source": [
    "* Keywords arguments: a way of separating the arguments with default values, so they can be called by name."
   ]
  },
  {
   "cell_type": "code",
   "execution_count": null,
   "id": "b95cf965",
   "metadata": {},
   "outputs": [],
   "source": [
    "a = 2\n",
    "f(x;a) = exp(cos(a*x))    # Will use the value for variable called a"
   ]
  },
  {
   "cell_type": "markdown",
   "id": "2220ed21",
   "metadata": {},
   "source": [
    "* Broadcasting: applying a function in an iterated way.\n",
    "  + If `f` is any Julia function, then `f.` references the broadcasted version."
   ]
  },
  {
   "cell_type": "markdown",
   "id": "a85356dd",
   "metadata": {},
   "source": [
    "#### Logical connectors\n",
    "* `&&` (and) `||` (or).\n",
    "  + `P && Q` is true if both are true, otherwise it’s false.\n",
    "  + `P || Q` is false if both are false, otherwise it’s true."
   ]
  },
  {
   "cell_type": "markdown",
   "id": "080558f5-d425-488d-a72e-70d9a4b843e8",
   "metadata": {
    "jp-MarkdownHeadingCollapsed": true,
    "tags": []
   },
   "source": [
    "## Packages and Version Control "
   ]
  },
  {
   "cell_type": "markdown",
   "id": "836cfb10-b0cd-49d5-812b-01496ac3ba78",
   "metadata": {},
   "source": [
    "In order to create a new project, create a directory for it and then activate that directory to make it the \"active project\" which package operations manipulate.\n",
    "\n",
    "* Consult current directory: `pwd()`\n",
    "* Change directory: `cd(\"endereço\\do\\projeto\")`\n",
    "\n",
    "* Creating a project:\n",
    "  + Open VSCode in the **parent** folder.\n",
    "  + Open Julia REPL.\n",
    "  + Check the current directory. \n",
    "  + Create the project: `] generate nomedoprojeto`. This will create Project.toml and Manifest.toml files, which provide an isolated set of packages for a particular project.\n",
    "  + Set the folder as directory: `cd(\"Nome_do_Projeto\")` (hit back to leave package mode)\n",
    "  + Activate the project: `] activate .`\n",
    "  + Check the status of the project (it will be empty before any packages are loaded): `] st`\n",
    "  + Obs: to \"deactivate\" the environment, use `] activate ` with no complements. It will return to Julia's standard env.\n",
    "* Select the new environment in VSCode: lower-right corner, in `Julia env:`\n",
    "\n",
    "\n",
    "If you load a jupyter notebook, it will automatically look up the tree for the project files to activate, but will not automatically install them. \n",
    "\n",
    "* To install the packages, use the `] instantiate` command (if you are loading a directory that already has packages).\n",
    "* To install packages in a new project, use:  \n",
    "  + `using Pkg` \n",
    "  + `Pkg.add(\"NameOfPackage\")`\n",
    "\n",
    "The project files can be in parent folders relative to the notebooks and sourcecode.\n",
    "\n",
    "Using a project provides the environment for running code is reproducible, so that anyone can replicate the precise set of package and versions used in construction.\n",
    "\n",
    "After the installation and activation, `using` provides a way to say that a particular code or notebook will use the package.\n",
    "\n",
    "\n",
    "### Python and Conda\n",
    "It might be necessary to change the following settings:  \n",
    "* `ENV[\"CONDA_JL_HOME\"] = \"C:/Users/anapn/miniforge3\"` \n",
    "* `using Pkg`\n",
    "* `Pkg.build(\"Conda\")`\n"
   ]
  },
  {
   "cell_type": "markdown",
   "id": "457cd530-6e5a-4297-9fb0-ad7975b53f18",
   "metadata": {
    "tags": []
   },
   "source": [
    "## Data Structures"
   ]
  },
  {
   "cell_type": "markdown",
   "id": "13a21d1a-d8d0-456b-902c-53e721435500",
   "metadata": {
    "jp-MarkdownHeadingCollapsed": true,
    "tags": []
   },
   "source": [
    "### Data types"
   ]
  },
  {
   "cell_type": "markdown",
   "id": "ddc78687-26cb-4be7-8256-46eeddcb2ec6",
   "metadata": {},
   "source": [
    "* **Assessing the type of a variable:** function `typeof()`  \n",
    "\n",
    "* Boolean: `TRUE` and `FALSE` \n",
    "* Integers: `x = 1`  \n",
    "* Floats: `x = 1.0`\n",
    "* Strings: \"Text\"  \n",
    "  + Using `$` inside of a string shows the value of a variable: \"The result is x = $x\".  \n",
    "  + We can concatenate (colar) strings using `*`:\n"
   ]
  },
  {
   "cell_type": "code",
   "execution_count": 3,
   "id": "97d5e6b7-15a3-48e8-a7da-6d0516ac53ac",
   "metadata": {},
   "outputs": [
    {
     "data": {
      "text/plain": [
       "\"icecream\""
      ]
     },
     "execution_count": 3,
     "metadata": {},
     "output_type": "execute_result"
    }
   ],
   "source": [
    "x = \"ice\"\n",
    "y = \"cream\"\n",
    "x*y"
   ]
  },
  {
   "cell_type": "markdown",
   "id": "79a432de-c086-4b03-a1ee-8b8a86869459",
   "metadata": {},
   "source": [
    "* Functions for working with strings:   "
   ]
  },
  {
   "cell_type": "code",
   "execution_count": 12,
   "id": "db1587ae-3e3f-4c82-92e3-de5c6a834502",
   "metadata": {},
   "outputs": [
    {
     "name": "stdout",
     "output_type": "stream",
     "text": [
      "split(s) = SubString{String}[\"very\", \"long\", \"text\"]\n"
     ]
    },
    {
     "data": {
      "text/plain": [
       "3-element Vector{SubString{String}}:\n",
       " \"very\"\n",
       " \"long\"\n",
       " \"text\""
      ]
     },
     "execution_count": 12,
     "metadata": {},
     "output_type": "execute_result"
    }
   ],
   "source": [
    "s = \"very long text\"\n",
    "\n",
    "# Split function:\n",
    "@show split(s)\n",
    "\n",
    "  # Default is to separate at blank space. You can pass the separator as a string second element. Ex: split(s,\",\"). "
   ]
  },
  {
   "cell_type": "code",
   "execution_count": 11,
   "id": "32d5374d-8333-4261-a6ab-52cc8521dd8c",
   "metadata": {},
   "outputs": [
    {
     "name": "stdout",
     "output_type": "stream",
     "text": [
      "replace(s, \"long\" => \"short\") = \"very short text\"\n"
     ]
    }
   ],
   "source": [
    "# Replace function:\n",
    "@show replace(s, \"long\" => \"short\");"
   ]
  },
  {
   "cell_type": "code",
   "execution_count": 14,
   "id": "de78e208-c2e1-430e-9952-d8338067ac48",
   "metadata": {},
   "outputs": [
    {
     "name": "stdout",
     "output_type": "stream",
     "text": [
      "strip(\"   Hello   \") = \"Hello\"\n"
     ]
    }
   ],
   "source": [
    "# Strip function: Remove white space\n",
    "@show strip(\"   Hello   \");\n"
   ]
  },
  {
   "cell_type": "markdown",
   "id": "eb85d639-fe79-4287-9d18-eb77d004df56",
   "metadata": {
    "jp-MarkdownHeadingCollapsed": true,
    "tags": []
   },
   "source": [
    "### Arrays"
   ]
  },
  {
   "cell_type": "markdown",
   "id": "c6f578f7-7fb3-4581-a007-80911d6ee2fe",
   "metadata": {},
   "source": [
    "* Ordered (like Tuples, unlike Dictionaries) and mutable (unlike Tuples, like Dictionaries)\n",
    "  + Syntax:"
   ]
  },
  {
   "cell_type": "code",
   "execution_count": 21,
   "id": "51c9ef3a",
   "metadata": {},
   "outputs": [
    {
     "data": {
      "text/plain": [
       "5-element Vector{String}:\n",
       " \"Ted\"\n",
       " \"Robin\"\n",
       " \"Lily\"\n",
       " \"Marshall\"\n",
       " \"Barney\""
      ]
     },
     "execution_count": 21,
     "metadata": {},
     "output_type": "execute_result"
    }
   ],
   "source": [
    "HIMYM = [\"Ted\", \"Robin\", \"Lily\", \"Marshall\", \"Barney\"]"
   ]
  },
  {
   "cell_type": "markdown",
   "id": "cf01770a",
   "metadata": {},
   "source": [
    "* Array elements are referenced using square brackets `[]` (unlike MATLAB and Fortran).\n",
    "* Array indices start at 1.  \n",
    "* An array is identified as:  `Array{type,n}`\n",
    "  + For example, `HIMYM` is Array{String,1}: a one dimensional vector.\n",
    "  + A numerical matrix would be Array{Float,2} "
   ]
  },
  {
   "cell_type": "code",
   "execution_count": 27,
   "id": "9f9721f4",
   "metadata": {},
   "outputs": [
    {
     "data": {
      "text/plain": [
       "2×3 Matrix{Int64}:\n",
       " 1  2  3\n",
       " 4  5  6"
      ]
     },
     "execution_count": 27,
     "metadata": {},
     "output_type": "execute_result"
    }
   ],
   "source": [
    "mymatrix = [1 2 3; 4 5 6]"
   ]
  },
  {
   "cell_type": "code",
   "execution_count": 28,
   "id": "f6bb9667",
   "metadata": {},
   "outputs": [
    {
     "data": {
      "text/plain": [
       "3×3×2 Array{Float64, 3}:\n",
       "[:, :, 1] =\n",
       " 0.660234  0.382535  0.489083\n",
       " 0.716385  0.547163  0.551098\n",
       " 0.227274  0.409996  0.561599\n",
       "\n",
       "[:, :, 2] =\n",
       " 0.520419  0.851311  0.409233\n",
       " 0.22281   0.94307   0.54712\n",
       " 0.557216  0.386375  0.618318"
      ]
     },
     "execution_count": 28,
     "metadata": {},
     "output_type": "execute_result"
    }
   ],
   "source": [
    "rand(3,3,2)"
   ]
  },
  {
   "cell_type": "markdown",
   "id": "a12e4667",
   "metadata": {},
   "source": [
    "* Array of arrays:"
   ]
  },
  {
   "cell_type": "code",
   "execution_count": 35,
   "id": "31271364",
   "metadata": {},
   "outputs": [
    {
     "data": {
      "text/plain": [
       "2-element Vector{Vector{String}}:\n",
       " [\"chocolate\", \"strawberries\"]\n",
       " [\"pencils\", \"notebooks\"]"
      ]
     },
     "execution_count": 35,
     "metadata": {},
     "output_type": "execute_result"
    }
   ],
   "source": [
    "things = [[\"chocolate\", \"strawberries\"],[\"pencils\",\"notebooks\"]]"
   ]
  },
  {
   "cell_type": "markdown",
   "id": "cd80afcf",
   "metadata": {},
   "source": [
    "#### Indexing"
   ]
  },
  {
   "cell_type": "markdown",
   "id": "259cd885",
   "metadata": {},
   "source": [
    "* Take elements of an array, or update elements: "
   ]
  },
  {
   "cell_type": "code",
   "execution_count": 29,
   "id": "90bb9d4b",
   "metadata": {},
   "outputs": [
    {
     "data": {
      "text/plain": [
       "\"Lily\""
      ]
     },
     "execution_count": 29,
     "metadata": {},
     "output_type": "execute_result"
    }
   ],
   "source": [
    "HIMYM[3]"
   ]
  },
  {
   "cell_type": "code",
   "execution_count": 31,
   "id": "b0d6a5ab",
   "metadata": {},
   "outputs": [
    {
     "data": {
      "text/plain": [
       "\"Ranjit\""
      ]
     },
     "execution_count": 31,
     "metadata": {},
     "output_type": "execute_result"
    }
   ],
   "source": [
    "HIMYM[5] = \"Ranjit\""
   ]
  },
  {
   "cell_type": "markdown",
   "id": "5fea392d",
   "metadata": {},
   "source": [
    "* To add a new element: `push!`"
   ]
  },
  {
   "cell_type": "code",
   "execution_count": 32,
   "id": "749aa495",
   "metadata": {},
   "outputs": [
    {
     "data": {
      "text/plain": [
       "6-element Vector{String}:\n",
       " \"Ted\"\n",
       " \"Robin\"\n",
       " \"Lily\"\n",
       " \"Marshall\"\n",
       " \"Ranjit\"\n",
       " \"Barney\""
      ]
     },
     "execution_count": 32,
     "metadata": {},
     "output_type": "execute_result"
    }
   ],
   "source": [
    "push!(HIMYM, \"Barney\")"
   ]
  },
  {
   "cell_type": "markdown",
   "id": "00f6c841",
   "metadata": {},
   "source": [
    "* To remove the last element: `pop!`"
   ]
  },
  {
   "cell_type": "markdown",
   "id": "0359f4e4",
   "metadata": {},
   "source": [
    "* The last element of an array can be referenced with `end`. \n",
    "* We can also use `end` recursively or with slide notation:"
   ]
  },
  {
   "cell_type": "code",
   "execution_count": 38,
   "id": "44d29b86",
   "metadata": {},
   "outputs": [
    {
     "data": {
      "text/plain": [
       "\"Ranjit\""
      ]
     },
     "execution_count": 38,
     "metadata": {},
     "output_type": "execute_result"
    }
   ],
   "source": [
    "HIMYM[end]"
   ]
  },
  {
   "cell_type": "code",
   "execution_count": 41,
   "id": "dd073fc2",
   "metadata": {},
   "outputs": [
    {
     "data": {
      "text/plain": [
       "\"Marshall\""
      ]
     },
     "execution_count": 41,
     "metadata": {},
     "output_type": "execute_result"
    }
   ],
   "source": [
    "HIMYM[end-1]"
   ]
  },
  {
   "cell_type": "code",
   "execution_count": 39,
   "id": "b9038706",
   "metadata": {},
   "outputs": [
    {
     "data": {
      "text/plain": [
       "3-element Vector{String}:\n",
       " \"Lily\"\n",
       " \"Marshall\"\n",
       " \"Ranjit\""
      ]
     },
     "execution_count": 39,
     "metadata": {},
     "output_type": "execute_result"
    }
   ],
   "source": [
    "HIMYM[3:end]"
   ]
  },
  {
   "cell_type": "markdown",
   "id": "fc3c379a-60d6-4143-8421-9c4ff40a6f17",
   "metadata": {},
   "source": [
    "* Booleans can be used to extract elements:"
   ]
  },
  {
   "cell_type": "code",
   "execution_count": 22,
   "id": "b7120bd5-83d0-40bd-ad97-472e842ddfe5",
   "metadata": {},
   "outputs": [
    {
     "name": "stdout",
     "output_type": "stream",
     "text": [
      "a = randn(2, 2) = [-1.0542446692398801 0.6350933151585837; -0.06470036467277628 2.081498510690278]\n",
      "b = [true false; false true] = Bool[1 0; 0 1]\n",
      "a[b] = [-1.0542446692398801, 2.081498510690278]\n"
     ]
    },
    {
     "data": {
      "text/plain": [
       "2-element Vector{Float64}:\n",
       " -1.0542446692398801\n",
       "  2.081498510690278"
      ]
     },
     "execution_count": 22,
     "metadata": {},
     "output_type": "execute_result"
    }
   ],
   "source": [
    "@show a = randn(2, 2)\n",
    "@show b = [true false; false true]\n",
    "@show a[b]         # Get elements [1,1] and [2,2] of a        "
   ]
  },
  {
   "cell_type": "markdown",
   "id": "e2838174-8dba-4ef7-b6ef-7136ad2e6109",
   "metadata": {},
   "source": [
    "* Change dimension of array: `reshape(x,n,m)`"
   ]
  },
  {
   "cell_type": "markdown",
   "id": "2e9443c9",
   "metadata": {},
   "source": [
    "#### Copy an Array"
   ]
  },
  {
   "cell_type": "markdown",
   "id": "73faa1f1",
   "metadata": {},
   "source": [
    "* Using the `=` sign **does not** create an independent copy of an array. Rather, it creates a new way to access the old array.\n",
    "* Modifications done to the \"copy\" will affect the old array as well.\n",
    "* To create an independent copy, use the `copy` function  "
   ]
  },
  {
   "cell_type": "markdown",
   "id": "ed51453a-32fe-4c1d-a988-0f59c1c2e68e",
   "metadata": {},
   "source": [
    "`newarray = copy(oldarray)`"
   ]
  },
  {
   "cell_type": "markdown",
   "id": "4ffaee63-5c90-49c3-a6fd-34b2eada30de",
   "metadata": {},
   "source": [
    "* The `=` binds the name of the object to the value of the other object. \n",
    "* The `.=` assigns values. "
   ]
  },
  {
   "cell_type": "code",
   "execution_count": 33,
   "id": "778598d4-0a24-4189-a974-a91497d53e89",
   "metadata": {},
   "outputs": [
    {
     "name": "stdout",
     "output_type": "stream",
     "text": [
      "(x, y, z) = ([2 3 4], [2 3 4], [2 3 4])\n"
     ]
    }
   ],
   "source": [
    "x = [1 2 3]\n",
    "y = x         # Now name `y` is binded to whatever `x` is\n",
    "z = [2 3 4]\n",
    "y .= z        # Now the values in z are attributed to name `y` (hence, the values in x change)\n",
    "@show (x, y, z);"
   ]
  },
  {
   "cell_type": "code",
   "execution_count": 34,
   "id": "c226c74a-ce88-453c-8443-66b5b794fa7d",
   "metadata": {},
   "outputs": [
    {
     "name": "stdout",
     "output_type": "stream",
     "text": [
      "(x, y) = ([0 0 0], [1 2 3])\n"
     ]
    }
   ],
   "source": [
    "x = [1 2 3]\n",
    "y .= x\n",
    "x = [0 0 0]\n",
    "@show (x, y);"
   ]
  },
  {
   "cell_type": "markdown",
   "id": "3dd39c00-22ee-43b0-a5fd-143f7b18bf89",
   "metadata": {},
   "source": [
    "Another way to assign values: `y[:] = z`"
   ]
  },
  {
   "cell_type": "code",
   "execution_count": 35,
   "id": "728615ff-84e0-46d8-9a8c-3cd00ec2b1a4",
   "metadata": {},
   "outputs": [
    {
     "data": {
      "text/plain": [
       "1×3 Matrix{Int64}:\n",
       " 2  3  4"
      ]
     },
     "execution_count": 35,
     "metadata": {},
     "output_type": "execute_result"
    }
   ],
   "source": [
    "y[:] = z"
   ]
  },
  {
   "cell_type": "markdown",
   "id": "2f023631-8dac-414b-966c-55adc716a1ee",
   "metadata": {},
   "source": [
    "* The `===` operator tests if two objects share the same memory (two names binded to the same value)"
   ]
  },
  {
   "cell_type": "code",
   "execution_count": 36,
   "id": "d52b6eac-16bc-42ee-b0bd-7d6147376236",
   "metadata": {},
   "outputs": [
    {
     "data": {
      "text/plain": [
       "false"
      ]
     },
     "execution_count": 36,
     "metadata": {},
     "output_type": "execute_result"
    }
   ],
   "source": [
    "y === z"
   ]
  },
  {
   "cell_type": "markdown",
   "id": "88175403-3902-43f0-8663-cb52fbe4c85d",
   "metadata": {},
   "source": [
    "#### Create an Array"
   ]
  },
  {
   "cell_type": "markdown",
   "id": "d268f163-af51-4d82-b849-371dc89ee8a4",
   "metadata": {},
   "source": [
    "* Function `zeros()`: can create single ou multivariate arrays of zeros.  \n",
    "  + `zeros(n)`\n",
    "  + `zeros(n,m)`  \n",
    "* Function `fill(x,n,m)`: creates an $n \\times m$ array with all entries equal to $x$.  \n",
    "* Function `Array{Float64}(undef,n,m)`: creates an empty array of Float type with size $n \\times m$.\n",
    "* Important: vector $\\times$ row matrix:   "
   ]
  },
  {
   "cell_type": "code",
   "execution_count": 44,
   "id": "a405e327-2da9-4a22-8bce-bf0a5fce57e9",
   "metadata": {},
   "outputs": [
    {
     "name": "stdout",
     "output_type": "stream",
     "text": [
      "typeof(x) = Vector{Int64}\n",
      "typeof(y) = Matrix{Int64}\n"
     ]
    },
    {
     "data": {
      "text/plain": [
       "4-element Vector{Int64}:\n",
       " 1\n",
       " 2\n",
       " 3\n",
       " 4"
      ]
     },
     "execution_count": 44,
     "metadata": {},
     "output_type": "execute_result"
    }
   ],
   "source": [
    "x = [1,2,3,4]\n",
    "@show typeof(x)\n",
    "\n",
    "y = [1 2 3 4] \n",
    "@show typeof(y)\n",
    "\n",
    "dropdims(y, dims = 1)    # Turn into a 1-dimensional array"
   ]
  },
  {
   "cell_type": "markdown",
   "id": "447a967e-46fb-4265-be23-e2b79035cfdd",
   "metadata": {},
   "source": [
    "* Equivalent of **linspace**: `range()`"
   ]
  },
  {
   "cell_type": "code",
   "execution_count": 51,
   "id": "28d5cfd8-105a-4447-b0c3-a7c9712d136f",
   "metadata": {},
   "outputs": [
    {
     "data": {
      "text/plain": [
       "10-element Vector{Float64}:\n",
       " 0.0\n",
       " 0.1111111111111111\n",
       " 0.2222222222222222\n",
       " 0.3333333333333333\n",
       " 0.4444444444444444\n",
       " 0.5555555555555556\n",
       " 0.6666666666666666\n",
       " 0.7777777777777778\n",
       " 0.8888888888888888\n",
       " 1.0"
      ]
     },
     "execution_count": 51,
     "metadata": {},
     "output_type": "execute_result"
    }
   ],
   "source": [
    "maxval = 1.0\n",
    "minval = 0.0\n",
    "n = 10\n",
    "a = range(minval, maxval, length=n)\n",
    "b[:] = Vector(a) "
   ]
  },
  {
   "cell_type": "markdown",
   "id": "2f627372-421f-40fe-aa78-3ec780bf13fe",
   "metadata": {},
   "source": [
    "#### Matrices"
   ]
  },
  {
   "cell_type": "markdown",
   "id": "4f4f45d8-d327-49fa-936b-118b3404269f",
   "metadata": {},
   "source": [
    "* Transpose:"
   ]
  },
  {
   "cell_type": "code",
   "execution_count": null,
   "id": "deac9d73-58b2-4f1f-bb24-37123eda2bed",
   "metadata": {},
   "outputs": [],
   "source": [
    "a = [1 2; 3 4]\n",
    "b = a'            # Transpose\n",
    "@show typeof(b)   # It isn't a matrix, even though a is one\n",
    "c = Matrix(b)     # Convert to matrix"
   ]
  },
  {
   "cell_type": "markdown",
   "id": "c2d3023a-fc12-45d3-a340-6e752ca514d2",
   "metadata": {},
   "source": [
    "* Diagonal:\n",
    "  + The `diagonal()` function creates an object which is not a dense matrix - more efficient."
   ]
  },
  {
   "cell_type": "code",
   "execution_count": 29,
   "id": "4849dbac-861a-4eae-9f14-173dc307db3b",
   "metadata": {},
   "outputs": [
    {
     "data": {
      "text/plain": [
       "2×2 Diagonal{Float64, Vector{Float64}}:\n",
       " 1.0   ⋅ \n",
       "  ⋅   2.0"
      ]
     },
     "execution_count": 29,
     "metadata": {},
     "output_type": "execute_result"
    }
   ],
   "source": [
    "using LinearAlgebra\n",
    "a = [1.0, 2.0]\n",
    "d = LinearAlgebra.Diagonal(a)"
   ]
  },
  {
   "cell_type": "markdown",
   "id": "539e8879-4c64-4452-9883-df096147a8df",
   "metadata": {},
   "source": [
    "* Identity matrix: `I` object (no need to atribute its dimension)"
   ]
  },
  {
   "cell_type": "code",
   "execution_count": 31,
   "id": "0a7c01a1-043f-48bf-96da-f5220556e811",
   "metadata": {},
   "outputs": [
    {
     "data": {
      "text/plain": [
       "2×2 Matrix{Float64}:\n",
       " 0.0  2.0\n",
       " 3.0  3.0"
      ]
     },
     "execution_count": 31,
     "metadata": {},
     "output_type": "execute_result"
    }
   ],
   "source": [
    "b = [1.0 2.0; 3.0 4.0]\n",
    "b - I"
   ]
  },
  {
   "cell_type": "markdown",
   "id": "c68c547a-2f93-4746-94fc-3fa6363f2d0f",
   "metadata": {},
   "source": [
    "* Element-wise multiplication: `.*`\n",
    "* Matrix multiplication: `*` when working with 2-dimensional arrays  \n",
    "  + For 1-dimensional arrays, one should be transposed (as below) or use `dot()` function\n",
    "  "
   ]
  },
  {
   "cell_type": "code",
   "execution_count": 40,
   "id": "f15978e7-e0eb-4272-ad8b-fcb17796abe6",
   "metadata": {},
   "outputs": [
    {
     "name": "stdout",
     "output_type": "stream",
     "text": [
      "x = ones(2) = [1.0, 1.0]\n",
      "typeof(x) = Vector{Float64}\n"
     ]
    },
    {
     "data": {
      "text/plain": [
       "2.0"
      ]
     },
     "execution_count": 40,
     "metadata": {},
     "output_type": "execute_result"
    }
   ],
   "source": [
    "@show x = ones(2)\n",
    "@show typeof(x)\n",
    "x' * x"
   ]
  },
  {
   "cell_type": "code",
   "execution_count": 41,
   "id": "383d163d-fbb0-4709-afed-0c74815f3aa2",
   "metadata": {},
   "outputs": [
    {
     "data": {
      "text/plain": [
       "2.0"
      ]
     },
     "execution_count": 41,
     "metadata": {},
     "output_type": "execute_result"
    }
   ],
   "source": [
    "x ⋅ x"
   ]
  },
  {
   "cell_type": "markdown",
   "id": "9f90bc94-0c1c-4931-a0b9-0a537f380bd7",
   "metadata": {},
   "source": [
    "* Solving linear system: to solve $Ax = b$, use `x = A \\ b`\n",
    "* Scalar addition (unlike MATLAB) should use element-wise operator: `A .+ 1`\n",
    "* Element-wise comparisons: `a .> b` or `a .== b` "
   ]
  },
  {
   "cell_type": "markdown",
   "id": "87fdb908-ec33-4634-a426-8248051a637f",
   "metadata": {},
   "source": [
    "#### Linear Algebra"
   ]
  },
  {
   "cell_type": "markdown",
   "id": "1899e191-6cd0-4621-8395-143602f55641",
   "metadata": {},
   "source": [
    "`using LinearAlgebra`\n",
    "* Determinant: `det(A)`  \n",
    "* Trace: `tr(A)` \n",
    "* Eigenvalues: `eigvals(A)`\n",
    "* Rank: `rank(A)`"
   ]
  },
  {
   "cell_type": "markdown",
   "id": "c702ee71-3ded-4d0b-bdd3-e9de914b4bdb",
   "metadata": {
    "tags": []
   },
   "source": [
    "### Tuples\n"
   ]
  },
  {
   "cell_type": "markdown",
   "id": "5b7e2007",
   "metadata": {},
   "source": [
    "* An ordered collection of elements, enclosed by parenthesis.\n",
    "* Tuples elements are immutable: we **can't** update it.\n",
    "  + Sintax: "
   ]
  },
  {
   "cell_type": "code",
   "execution_count": null,
   "id": "51f37f38",
   "metadata": {},
   "outputs": [
    {
     "data": {
      "text/plain": [
       "(\"penguins\", \"dogs\", \"dolphins\")"
      ]
     },
     "execution_count": 2,
     "metadata": {},
     "output_type": "execute_result"
    }
   ],
   "source": [
    "animals = (\"penguins\", \"dogs\", \"dolphins\")"
   ]
  },
  {
   "cell_type": "markdown",
   "id": "b547d3fa",
   "metadata": {},
   "source": [
    "* Named tuples:"
   ]
  },
  {
   "cell_type": "code",
   "execution_count": null,
   "id": "cd20a8fc",
   "metadata": {},
   "outputs": [
    {
     "data": {
      "text/plain": [
       "(bird = \"penguis\", pet = \"dogs\", aquatic = \"dolphins\")"
      ]
     },
     "execution_count": 4,
     "metadata": {},
     "output_type": "execute_result"
    }
   ],
   "source": [
    "animals = (bird = \"penguis\", pet = \"dogs\", aquatic = \"dolphins\")"
   ]
  },
  {
   "cell_type": "markdown",
   "id": "0839d208",
   "metadata": {},
   "source": [
    "* Tuples can be indexed:"
   ]
  },
  {
   "cell_type": "code",
   "execution_count": null,
   "id": "e94eaab6",
   "metadata": {},
   "outputs": [
    {
     "data": {
      "text/plain": [
       "\"penguis\""
      ]
     },
     "execution_count": 8,
     "metadata": {},
     "output_type": "execute_result"
    }
   ],
   "source": [
    "animals[1]"
   ]
  },
  {
   "cell_type": "code",
   "execution_count": null,
   "id": "c20dd9ee",
   "metadata": {},
   "outputs": [
    {
     "data": {
      "text/plain": [
       "\"dogs\""
      ]
     },
     "execution_count": 10,
     "metadata": {},
     "output_type": "execute_result"
    }
   ],
   "source": [
    "animals.pet"
   ]
  },
  {
   "cell_type": "markdown",
   "id": "f380ad9a-2713-4d25-b07b-fb0e9eec1eea",
   "metadata": {},
   "source": [
    "* Tuples are good for assigning parameters values"
   ]
  },
  {
   "cell_type": "code",
   "execution_count": 52,
   "id": "f5ad7321-ef17-4b01-9109-2d583d516431",
   "metadata": {},
   "outputs": [
    {
     "data": {
      "text/plain": [
       "0.30000000000000004"
      ]
     },
     "execution_count": 52,
     "metadata": {},
     "output_type": "execute_result"
    }
   ],
   "source": [
    "function f(p)\n",
    "    (;α, β) = p                   # Unpacking notion: says to take elements α and β from the object parameters\n",
    "    return α + β\n",
    "end\n",
    "\n",
    "parameters = (;α = 0.1, β = 0.2)  # Assigning values\n",
    "f(parameters)                     # Applying the function to the values "
   ]
  },
  {
   "cell_type": "markdown",
   "id": "b9aa8630-ab0b-4a15-8662-37f0fd9dc397",
   "metadata": {
    "jp-MarkdownHeadingCollapsed": true,
    "tags": []
   },
   "source": [
    "### Dictionaries\n"
   ]
  },
  {
   "cell_type": "markdown",
   "id": "54650bba",
   "metadata": {},
   "source": [
    "* A set of data related to another.\n",
    "* It is not ordered, so can't be indexed.\n",
    "* Classic example: a contact list, which relates a name to a phone number. \n",
    "  + Syntax:"
   ]
  },
  {
   "cell_type": "code",
   "execution_count": null,
   "id": "f37056ab",
   "metadata": {},
   "outputs": [],
   "source": [
    "Dict(key1 => value1, key2 => value2, ...)"
   ]
  },
  {
   "cell_type": "code",
   "execution_count": null,
   "id": "4bb93eab",
   "metadata": {},
   "outputs": [
    {
     "data": {
      "text/plain": [
       "Dict{String, String} with 2 entries:\n",
       "  \"Rafa\" => \"9999-8888\"\n",
       "  \"Ana\"  => \"3333-1111\""
      ]
     },
     "execution_count": 11,
     "metadata": {},
     "output_type": "execute_result"
    }
   ],
   "source": [
    "# Ex: contact list\n",
    "contacts = Dict(\"Ana\" => \"3333-1111\", \"Rafa\" => \"9999-8888\")"
   ]
  },
  {
   "cell_type": "code",
   "execution_count": null,
   "id": "29b6822c",
   "metadata": {},
   "outputs": [
    {
     "data": {
      "text/plain": [
       "\"9999-8888\""
      ]
     },
     "execution_count": 12,
     "metadata": {},
     "output_type": "execute_result"
    }
   ],
   "source": [
    "# Getting an element:\n",
    "contacts[\"Rafa\"] "
   ]
  },
  {
   "cell_type": "code",
   "execution_count": null,
   "id": "5e65df09",
   "metadata": {},
   "outputs": [
    {
     "data": {
      "text/plain": [
       "Dict{String, String} with 3 entries:\n",
       "  \"Rafa\" => \"9999-8888\"\n",
       "  \"Ana\"  => \"3333-1111\"\n",
       "  \"Duda\" => \"9898-3131\""
      ]
     },
     "execution_count": 19,
     "metadata": {},
     "output_type": "execute_result"
    }
   ],
   "source": [
    "# Adding an element:\n",
    "contacts[\"Duda\"] = \"9898-3131\"\n",
    "contacts   # See the elements "
   ]
  },
  {
   "cell_type": "markdown",
   "id": "1d7f2b1d",
   "metadata": {},
   "source": [
    "* Removing an element: `pop!` function"
   ]
  },
  {
   "cell_type": "code",
   "execution_count": null,
   "id": "5fc272db",
   "metadata": {},
   "outputs": [
    {
     "data": {
      "text/plain": [
       "\"9898-3131\""
      ]
     },
     "execution_count": 20,
     "metadata": {},
     "output_type": "execute_result"
    }
   ],
   "source": [
    "pop!(contacts, \"Duda\")"
   ]
  }
 ],
 "metadata": {
  "kernelspec": {
   "display_name": "Julia 1.8.5",
   "language": "julia",
   "name": "julia-1.8"
  },
  "language_info": {
   "file_extension": ".jl",
   "mimetype": "application/julia",
   "name": "julia",
   "version": "1.8.5"
  }
 },
 "nbformat": 4,
 "nbformat_minor": 5
}
