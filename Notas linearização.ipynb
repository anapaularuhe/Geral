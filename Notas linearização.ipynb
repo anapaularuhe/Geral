{
 "cells": [
  {
   "attachments": {},
   "cell_type": "markdown",
   "metadata": {},
   "source": [
    "## Macroeconomia de Curto Prazo  \n",
    "FGV EPGE - 2023\n",
    "Ana Paula Nothen Ruhe"
   ]
  },
  {
   "attachments": {},
   "cell_type": "markdown",
   "metadata": {},
   "source": [
    "### RBC Model - Log-linear case"
   ]
  },
  {
   "attachments": {},
   "cell_type": "markdown",
   "metadata": {},
   "source": [
    "#### Model conditions:\n",
    "(i) Euler Equation: $c_t^{-\\sigma} = \\beta E\\left[ c_{t+1}^{-\\sigma} \\alpha A_{t+1}k_t^{\\alpha-1}\\right]$  \n",
    "(ii) Feasibility: $c_t + k_t = A_tk_{t-1}^\\alpha$"
   ]
  },
  {
   "attachments": {},
   "cell_type": "markdown",
   "metadata": {},
   "source": [
    "#### Steady state:\n",
    "* $A^* = 1$;\n",
    "* Euler Equation:  \n",
    "  \n",
    "$(c^*)^{-\\sigma} = \\beta (c^*)^{-\\sigma} \\alpha (k^*)^{\\alpha-1}$  \n",
    "$1 = \\beta\\alpha (k^*)^{\\alpha-1}$  \n",
    "$k^* = \\left(\\frac{1}{\\beta\\alpha}\\right)^\\frac{1}{\\alpha-1}$\n",
    "  \n",
    "* Feasibility:  \n",
    "  \n",
    "$c^* = (k^*)^\\alpha - k^*$  \n",
    "$c^* = k^* \\times \\left( \\frac{1-\\alpha\\beta}{\\alpha\\beta}\\right)$"
   ]
  },
  {
   "attachments": {},
   "cell_type": "markdown",
   "metadata": {},
   "source": [
    "#### Log-linearization:\n",
    "##### The process:\n",
    "* Let $y_t = f(x_t) = ln(x_t)$. By the Taylor rule, we have:  \n",
    "$y_t = y^* + f'(x^*)(x_t-x^*)$  \n",
    "  \n",
    "* With multiple arguments: $y_t = f(x_t,z_t)$:  \n",
    "$y_t = y^* + f_x(x^*,z^*)(x_t-x^*) + f_z(z^*,z^*)(z_t-z^*)$  \n",
    "\n",
    "* We need to apply the log-linearization process to both sides of the conditions.\n",
    "\n",
    "\n",
    "##### Euler Equation:\n",
    "* **LHS:**  $ y_t = ln(c_t^{-\\sigma})$   \n",
    "  - $y^* = -\\sigma ln(c^*)$ \n",
    "\n",
    "$y_t = y^* + \\frac{1}{(c^*)^{-\\sigma}}\\times(-\\sigma {c^*}^{-\\sigma-1} )\\times(c_t - c^*)$  \n",
    "$y_t = y^* - \\sigma \\frac{(c_t - c^*)}{c^*}$  \n",
    "  \n",
    "  .\n",
    "\n",
    " * **RHS:** $w_t = ln(\\beta c_{t+1}^{-\\sigma} \\alpha A_{t+1}k_t^{\\alpha-1})$  \n",
    "   - $w^* = \\ln(\\beta\\alpha) -\\sigma ln(c^*) + (\\alpha-1)ln(k^*)$ \n",
    "   - Given the value of $k^*$, we have $ln(k^*) = \\frac{-1}{\\alpha -1}ln(\\beta\\alpha)$. \n",
    "   - Hence: $w^* = -\\sigma ln(c^*)$ \n",
    "\n",
    " .\n",
    "\n",
    " $w_t = w^* + \\frac{1}{\\beta \\alpha (c^*)^{-\\sigma}(k^*)^{\\alpha-1}} \\times -\\sigma \\beta \\alpha(c^*)^{-\\sigma-1}(k^*)^{\\alpha-1}(c_{t+1} - c^*) + \\frac{1}{\\beta \\alpha (c^*)^{-\\sigma}(k^*)^{\\alpha-1}} \\times 1 \\times (A_{t+1} - A^*) + \\frac{1}{\\beta \\alpha (c^*)^{-\\sigma}(k^*)^{\\alpha-1}} \\times (\\alpha -1) \\beta \\alpha (c^*)^{-\\sigma}(k^*)^{\\alpha-2}\\times(k_t - k^*)$  \n",
    "\n",
    "\n",
    "$w_t = w^* + {-\\sigma}\\frac{(c_{t+1} - c^*)}{c^*} + \\frac{(A_{t+1} - A^*)}{A^*} + (\\alpha -1) \\frac{(k_t - k^*)}{k^*}$\n",
    "  \n",
    "  .\n",
    "\n",
    "* Notation: $\\tilde{x_t} = \\frac{x_t - x^*}{x^*}$.\n",
    "  \n",
    "* (LHS) = (RHS)  \n",
    "\n",
    "$-\\sigma ln(c^*) - \\sigma \\tilde{c_t} = -\\sigma ln(c^*) + {-\\sigma}\\tilde{c}_{t+1} + \\tilde{A}_{t+1} + (\\alpha -1) \\tilde{k}_t$\n",
    "\n",
    "$\\tilde{c_t} = \\tilde{c}_{t+1} - \\frac{1}{\\sigma}  (\\tilde{A}_{t+1} + (\\alpha -1) \\tilde{k}_t)$\n",
    "\n",
    "\n",
    "\n",
    "\n"
   ]
  }
 ],
 "metadata": {
  "language_info": {
   "name": "python"
  },
  "orig_nbformat": 4
 },
 "nbformat": 4,
 "nbformat_minor": 2
}
